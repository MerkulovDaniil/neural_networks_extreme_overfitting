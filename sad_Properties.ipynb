{
 "cells": [
  {
   "cell_type": "code",
   "execution_count": 1,
   "metadata": {
    "ExecuteTime": {
     "end_time": "2017-05-11T23:35:26.272765",
     "start_time": "2017-05-11T23:35:25.597240"
    },
    "collapsed": false,
    "scrolled": true
   },
   "outputs": [
    {
     "name": "stdout",
     "output_type": "stream",
     "text": [
      "Mean 324.89; Std 0.95\n"
     ]
    },
    {
     "data": {
      "image/png": "[encoded data removed]",
      "text/plain": [
       "<matplotlib.figure.Figure at 0x7fbc1b334780>"
      ]
     },
     "metadata": {},
     "output_type": "display_data"
    }
   ],
   "source": [
    "from matplotlib import pyplot as plt\n",
    "%matplotlib inline\n",
    "import numpy as np\n",
    "path = \"/home/dmerkulov/Bad_Machines/weights/MLP512/info/\"\n",
    "d_init_sad_ = []\n",
    "\n",
    "\n",
    "for i in range(1,80):\n",
    "    d_init_sad_.append(np.load(path + '%d.npz'%i)['d_init_sad'])\n",
    "\n",
    "plt.hist(d_init_sad_, 10)\n",
    "plt.title('Distance from initial point to sad point')\n",
    "plt.yticks([], [])\n",
    "# plt.savefig('d_init_sad.pdf')\n",
    "print('Mean %.2f; Std %.2f'%(np.array(d_init_sad_).mean(),np.array(d_init_sad_).std() ))"
   ]
  },
  {
   "cell_type": "code",
   "execution_count": 2,
   "metadata": {
    "ExecuteTime": {
     "end_time": "2017-05-11T23:35:54.753087",
     "start_time": "2017-05-11T23:35:54.452396"
    },
    "collapsed": false,
    "scrolled": true
   },
   "outputs": [
    {
     "name": "stdout",
     "output_type": "stream",
     "text": [
      "Mean 163.86; Std 7.49\n"
     ]
    },
    {
     "data": {
      "image/png": "[encoded data removed]",
      "text/plain": [
       "<matplotlib.figure.Figure at 0x7fbc3dcc96a0>"
      ]
     },
     "metadata": {},
     "output_type": "display_data"
    }
   ],
   "source": [
    "from matplotlib import pyplot as plt\n",
    "%matplotlib inline\n",
    "import numpy as np\n",
    "path = \"/home/dmerkulov/Bad_Machines/weights/MLP512/norm/\"\n",
    "d_init_norm_ = []\n",
    "\n",
    "for i in range(100):\n",
    "    d_init_norm_.append(np.load(path + '%d.npz'%i)['Distance'][-1])\n",
    "\n",
    "plt.hist(d_init_norm_, 10)\n",
    "plt.title('Distance from initial point to normal point')\n",
    "plt.yticks([], [])\n",
    "# plt.savefig('d_init_norm.pdf')\n",
    "print('Mean %.2f; Std %.2f'%(np.array(d_init_norm_).mean(),np.array(d_init_norm_).std() ))"
   ]
  },
  {
   "cell_type": "code",
   "execution_count": 114,
   "metadata": {
    "ExecuteTime": {
     "end_time": "2017-05-11T21:13:41.237283",
     "start_time": "2017-05-11T21:13:40.911002"
    },
    "collapsed": false
   },
   "outputs": [
    {
     "name": "stdout",
     "output_type": "stream",
     "text": [
      "Mean 1.473; Std 0.129\n"
     ]
    },
    {
     "data": {
      "image/png": "[encoded data removed]",
      "text/plain": [
       "<matplotlib.figure.Figure at 0x7f77268490b8>"
      ]
     },
     "metadata": {},
     "output_type": "display_data"
    }
   ],
   "source": [
    "from matplotlib import pyplot as plt\n",
    "%matplotlib inline\n",
    "import numpy as np\n",
    "path = \"/home/dmerkulov/Bad_Machines/weights/MLP512/info/\"\n",
    "d_sad_loc_ = []\n",
    "\n",
    "for i in range(1,80):\n",
    "    d_sad_loc_.append(np.load(path + '%d.npz'%i)['d_sad_loc'])\n",
    "\n",
    "plt.hist(d_sad_loc_, 10)\n",
    "plt.title('Distance from initial point to sad point')\n",
    "plt.yticks([], [])\n",
    "# plt.savefig('d_sad_loc.pdf')\n",
    "print('Mean %.3f; Std %.3f'%(np.array(d_sad_loc_).mean(),np.array(d_sad_loc_).std() ))"
   ]
  },
  {
   "cell_type": "code",
   "execution_count": 94,
   "metadata": {
    "ExecuteTime": {
     "end_time": "2017-05-11T21:04:48.585172",
     "start_time": "2017-05-11T21:04:48.483577"
    },
    "collapsed": false
   },
   "outputs": [],
   "source": [
    "import numpy as np\n",
    "path = \"/home/dmerkulov/Bad_Machines/weights/MLP512/info/\"\n",
    "sad_dist = []\n",
    "for i in range(1,80):\n",
    "    sad_dist.append(np.load(path + '%d.npz'%i)['Distance'])"
   ]
  },
  {
   "cell_type": "code",
   "execution_count": 111,
   "metadata": {
    "ExecuteTime": {
     "end_time": "2017-05-11T21:11:01.845598",
     "start_time": "2017-05-11T21:11:01.586280"
    },
    "collapsed": false
   },
   "outputs": [
    {
     "data": {
      "text/plain": [
       "[<matplotlib.lines.Line2D at 0x7f7727241e10>]"
      ]
     },
     "execution_count": 111,
     "metadata": {},
     "output_type": "execute_result"
    },
    {
     "data": {
      "image/png": "[encoded data removed]",
      "text/plain": [
       "<matplotlib.figure.Figure at 0x7f77264a70b8>"
      ]
     },
     "metadata": {},
     "output_type": "display_data"
    }
   ],
   "source": [
    "path = \"/home/dmerkulov/Bad_Machines/weights/MLP512/norm/\"\n",
    "plt.plot(np.load(path + '%d.npz'%30)['Distance'])"
   ]
  },
  {
   "cell_type": "code",
   "execution_count": 62,
   "metadata": {
    "ExecuteTime": {
     "end_time": "2017-05-11T20:19:27.551259",
     "start_time": "2017-05-11T20:19:27.257752"
    },
    "collapsed": false
   },
   "outputs": [
    {
     "data": {
      "text/plain": [
       "[<matplotlib.lines.Line2D at 0x7f77277b12b0>]"
      ]
     },
     "execution_count": 62,
     "metadata": {},
     "output_type": "execute_result"
    },
    {
     "data": {
      "image/png": "[encoded data removed]",
      "text/plain": [
       "<matplotlib.figure.Figure at 0x7f7727caf518>"
      ]
     },
     "metadata": {},
     "output_type": "display_data"
    }
   ],
   "source": [
    "from matplotlib import pyplot as plt\n",
    "%matplotlib inline\n",
    "plt.hist(d_init_sad_, 10)"
   ]
  },
  {
   "cell_type": "code",
   "execution_count": 83,
   "metadata": {
    "ExecuteTime": {
     "end_time": "2017-05-11T20:59:25.319926",
     "start_time": "2017-05-11T20:59:25.310905"
    },
    "collapsed": false
   },
   "outputs": [
    {
     "data": {
      "text/plain": [
       "324.81408724188805"
      ]
     },
     "execution_count": 83,
     "metadata": {},
     "output_type": "execute_result"
    }
   ],
   "source": [
    "sad_dist[0][-1]"
   ]
  }
 ],
 "metadata": {
  "kernelspec": {
   "display_name": "Python 3",
   "language": "python",
   "name": "python3"
  },
  "language_info": {
   "codemirror_mode": {
    "name": "ipython",
    "version": 3
   },
   "file_extension": ".py",
   "mimetype": "text/x-python",
   "name": "python",
   "nbconvert_exporter": "python",
   "pygments_lexer": "ipython3",
   "version": "3.6.0"
  }
 },
 "nbformat": 4,
 "nbformat_minor": 2
}
